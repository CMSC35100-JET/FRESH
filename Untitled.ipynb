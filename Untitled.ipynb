{
 "cells": [
  {
   "cell_type": "code",
   "execution_count": 1,
   "metadata": {},
   "outputs": [],
   "source": [
    "import json\n",
    "load_jsonl = lambda x : [json.loads(line) for line in open(x)]"
   ]
  },
  {
   "cell_type": "code",
   "execution_count": 2,
   "metadata": {},
   "outputs": [],
   "source": [
    "original = load_jsonl('Datasets/multirc/data/test.jsonl')"
   ]
  },
  {
   "cell_type": "code",
   "execution_count": 43,
   "metadata": {},
   "outputs": [],
   "source": [
    "spans = {}\n",
    "for model in ['lei', 'fresh'] :\n",
    "    spans[model] = {}\n",
    "    for t in ['max_length'] :\n",
    "        spans[model][t] = load_jsonl(f'outputs/multirc_{model}_{t}.jsonl')"
   ]
  },
  {
   "cell_type": "code",
   "execution_count": 61,
   "metadata": {},
   "outputs": [],
   "source": [
    "from IPython.core.display import display, HTML\n",
    "import html\n",
    "def print_words(document, spans, model_name) :\n",
    "    text = document['document'].split()\n",
    "    weights = [0.6]*len(text)\n",
    "    for s, e in spans :\n",
    "        for i in range(s, e) :\n",
    "            weights[i] = 1\n",
    "            \n",
    "    highlighted_text = []\n",
    "    for w, v in zip(text, weights) :\n",
    "        f = 'normal' if v == 0.6 else 'bold'\n",
    "        highlighted_text.append(f'<span style=\"opacity:{v};font-weight:{f}\">{html.escape(w)}</span>')\n",
    "        \n",
    "    highlighted_text = f'<span style=\"font-weight:bold\">[{model_name}] </span>' + ' '.join(highlighted_text)\n",
    "    display(HTML(highlighted_text))"
   ]
  },
  {
   "cell_type": "code",
   "execution_count": 64,
   "metadata": {},
   "outputs": [
    {
     "data": {
      "text/html": [
       "<div style=\"border:1px solid black;padding:5px;font-weight:bold\">Query : What is the only difference between a reflection in a mirror and the actual image ? Answer :  It is exactly the same</div>"
      ],
      "text/plain": [
       "<IPython.core.display.HTML object>"
      ]
     },
     "metadata": {},
     "output_type": "display_data"
    },
    {
     "data": {
      "text/html": [
       "<span style=\"font-weight:bold\">[Human] </span><span style=\"opacity:1;font-weight:bold\">You</span> <span style=\"opacity:1;font-weight:bold\">have</span> <span style=\"opacity:1;font-weight:bold\">seen</span> <span style=\"opacity:1;font-weight:bold\">your</span> <span style=\"opacity:1;font-weight:bold\">own</span> <span style=\"opacity:1;font-weight:bold\">reflection</span> <span style=\"opacity:1;font-weight:bold\">in</span> <span style=\"opacity:1;font-weight:bold\">a</span> <span style=\"opacity:1;font-weight:bold\">mirror</span> <span style=\"opacity:1;font-weight:bold\">.</span> <span style=\"opacity:1;font-weight:bold\">The</span> <span style=\"opacity:1;font-weight:bold\">person</span> <span style=\"opacity:1;font-weight:bold\">looking</span> <span style=\"opacity:1;font-weight:bold\">back</span> <span style=\"opacity:1;font-weight:bold\">at</span> <span style=\"opacity:1;font-weight:bold\">you</span> <span style=\"opacity:1;font-weight:bold\">looks</span> <span style=\"opacity:1;font-weight:bold\">just</span> <span style=\"opacity:1;font-weight:bold\">like</span> <span style=\"opacity:1;font-weight:bold\">you</span> <span style=\"opacity:1;font-weight:bold\">.</span> <span style=\"opacity:0.6;font-weight:normal\">Where</span> <span style=\"opacity:0.6;font-weight:normal\">does</span> <span style=\"opacity:0.6;font-weight:normal\">that</span> <span style=\"opacity:0.6;font-weight:normal\">reflected</span> <span style=\"opacity:0.6;font-weight:normal\">person</span> <span style=\"opacity:0.6;font-weight:normal\">appear</span> <span style=\"opacity:0.6;font-weight:normal\">to</span> <span style=\"opacity:0.6;font-weight:normal\">be</span> <span style=\"opacity:0.6;font-weight:normal\">standing</span> <span style=\"opacity:0.6;font-weight:normal\">?</span> <span style=\"opacity:0.6;font-weight:normal\">Yes</span> <span style=\"opacity:0.6;font-weight:normal\">,</span> <span style=\"opacity:0.6;font-weight:normal\">they</span> <span style=\"opacity:0.6;font-weight:normal\">appear</span> <span style=\"opacity:0.6;font-weight:normal\">to</span> <span style=\"opacity:0.6;font-weight:normal\">be</span> <span style=\"opacity:0.6;font-weight:normal\">on</span> <span style=\"opacity:0.6;font-weight:normal\">the</span> <span style=\"opacity:0.6;font-weight:normal\">other</span> <span style=\"opacity:0.6;font-weight:normal\">side</span> <span style=\"opacity:0.6;font-weight:normal\">of</span> <span style=\"opacity:0.6;font-weight:normal\">the</span> <span style=\"opacity:0.6;font-weight:normal\">mirror</span> <span style=\"opacity:0.6;font-weight:normal\">.</span> <span style=\"opacity:0.6;font-weight:normal\">That</span> <span style=\"opacity:0.6;font-weight:normal\">is</span> <span style=\"opacity:0.6;font-weight:normal\">really</span> <span style=\"opacity:0.6;font-weight:normal\">strange</span> <span style=\"opacity:0.6;font-weight:normal\">to</span> <span style=\"opacity:0.6;font-weight:normal\">think</span> <span style=\"opacity:0.6;font-weight:normal\">about</span> <span style=\"opacity:0.6;font-weight:normal\">,</span> <span style=\"opacity:0.6;font-weight:normal\">but</span> <span style=\"opacity:0.6;font-weight:normal\">very</span> <span style=\"opacity:0.6;font-weight:normal\">cool</span> <span style=\"opacity:0.6;font-weight:normal\">.</span> <span style=\"opacity:0.6;font-weight:normal\">Have</span> <span style=\"opacity:0.6;font-weight:normal\">you</span> <span style=\"opacity:0.6;font-weight:normal\">ever</span> <span style=\"opacity:0.6;font-weight:normal\">waved</span> <span style=\"opacity:0.6;font-weight:normal\">at</span> <span style=\"opacity:0.6;font-weight:normal\">your</span> <span style=\"opacity:0.6;font-weight:normal\">reflection</span> <span style=\"opacity:0.6;font-weight:normal\">in</span> <span style=\"opacity:0.6;font-weight:normal\">a</span> <span style=\"opacity:0.6;font-weight:normal\">mirror</span> <span style=\"opacity:0.6;font-weight:normal\">?</span> <span style=\"opacity:0.6;font-weight:normal\">The</span> <span style=\"opacity:0.6;font-weight:normal\">reflected</span> <span style=\"opacity:0.6;font-weight:normal\">image</span> <span style=\"opacity:0.6;font-weight:normal\">will</span> <span style=\"opacity:0.6;font-weight:normal\">wave</span> <span style=\"opacity:0.6;font-weight:normal\">back</span> <span style=\"opacity:0.6;font-weight:normal\">at</span> <span style=\"opacity:0.6;font-weight:normal\">you</span> <span style=\"opacity:0.6;font-weight:normal\">.</span> <span style=\"opacity:0.6;font-weight:normal\">Here</span> <span style=\"opacity:0.6;font-weight:normal\">is</span> <span style=\"opacity:0.6;font-weight:normal\">something</span> <span style=\"opacity:0.6;font-weight:normal\">to</span> <span style=\"opacity:0.6;font-weight:normal\">try</span> <span style=\"opacity:0.6;font-weight:normal\">next</span> <span style=\"opacity:0.6;font-weight:normal\">time</span> <span style=\"opacity:0.6;font-weight:normal\">you</span> <span style=\"opacity:0.6;font-weight:normal\">stand</span> <span style=\"opacity:0.6;font-weight:normal\">in</span> <span style=\"opacity:0.6;font-weight:normal\">front</span> <span style=\"opacity:0.6;font-weight:normal\">of</span> <span style=\"opacity:0.6;font-weight:normal\">a</span> <span style=\"opacity:0.6;font-weight:normal\">mirror</span> <span style=\"opacity:0.6;font-weight:normal\">.</span> <span style=\"opacity:0.6;font-weight:normal\">Wave</span> <span style=\"opacity:0.6;font-weight:normal\">to</span> <span style=\"opacity:0.6;font-weight:normal\">your</span> <span style=\"opacity:0.6;font-weight:normal\">reflection</span> <span style=\"opacity:0.6;font-weight:normal\">with</span> <span style=\"opacity:0.6;font-weight:normal\">your</span> <span style=\"opacity:0.6;font-weight:normal\">right</span> <span style=\"opacity:0.6;font-weight:normal\">hand</span> <span style=\"opacity:0.6;font-weight:normal\">.</span> <span style=\"opacity:0.6;font-weight:normal\">What</span> <span style=\"opacity:0.6;font-weight:normal\">hand</span> <span style=\"opacity:0.6;font-weight:normal\">do</span> <span style=\"opacity:0.6;font-weight:normal\">you</span> <span style=\"opacity:0.6;font-weight:normal\">think</span> <span style=\"opacity:0.6;font-weight:normal\">the</span> <span style=\"opacity:0.6;font-weight:normal\">reflection</span> <span style=\"opacity:0.6;font-weight:normal\">will</span> <span style=\"opacity:0.6;font-weight:normal\">wave</span> <span style=\"opacity:0.6;font-weight:normal\">back</span> <span style=\"opacity:0.6;font-weight:normal\">with</span> <span style=\"opacity:0.6;font-weight:normal\">?</span> <span style=\"opacity:0.6;font-weight:normal\">The</span> <span style=\"opacity:0.6;font-weight:normal\">same</span> <span style=\"opacity:0.6;font-weight:normal\">hand</span> <span style=\"opacity:0.6;font-weight:normal\">?</span> <span style=\"opacity:0.6;font-weight:normal\">A</span> <span style=\"opacity:0.6;font-weight:normal\">different</span> <span style=\"opacity:0.6;font-weight:normal\">hand</span> <span style=\"opacity:0.6;font-weight:normal\">?</span> <span style=\"opacity:0.6;font-weight:normal\">You</span> <span style=\"opacity:0.6;font-weight:normal\">will</span> <span style=\"opacity:0.6;font-weight:normal\">notice</span> <span style=\"opacity:0.6;font-weight:normal\">something</span> <span style=\"opacity:0.6;font-weight:normal\">interesting</span> <span style=\"opacity:0.6;font-weight:normal\">.</span> <span style=\"opacity:0.6;font-weight:normal\">The</span> <span style=\"opacity:0.6;font-weight:normal\">reflection</span> <span style=\"opacity:0.6;font-weight:normal\">waves</span> <span style=\"opacity:0.6;font-weight:normal\">back</span> <span style=\"opacity:0.6;font-weight:normal\">with</span> <span style=\"opacity:0.6;font-weight:normal\">the</span> <span style=\"opacity:0.6;font-weight:normal\">hand</span> <span style=\"opacity:0.6;font-weight:normal\">on</span> <span style=\"opacity:0.6;font-weight:normal\">the</span> <span style=\"opacity:0.6;font-weight:normal\">same</span> <span style=\"opacity:0.6;font-weight:normal\">side</span> <span style=\"opacity:0.6;font-weight:normal\">as</span> <span style=\"opacity:0.6;font-weight:normal\">you</span> <span style=\"opacity:0.6;font-weight:normal\">,</span> <span style=\"opacity:0.6;font-weight:normal\">but</span> <span style=\"opacity:0.6;font-weight:normal\">it</span> <span style=\"opacity:0.6;font-weight:normal\">is</span> <span style=\"opacity:0.6;font-weight:normal\">their</span> <span style=\"opacity:0.6;font-weight:normal\">left</span> <span style=\"opacity:0.6;font-weight:normal\">hand</span> <span style=\"opacity:0.6;font-weight:normal\">.</span> <span style=\"opacity:0.6;font-weight:normal\">The</span> <span style=\"opacity:0.6;font-weight:normal\">image</span> <span style=\"opacity:0.6;font-weight:normal\">in</span> <span style=\"opacity:0.6;font-weight:normal\">a</span> <span style=\"opacity:0.6;font-weight:normal\">reflection</span> <span style=\"opacity:0.6;font-weight:normal\">is</span> <span style=\"opacity:0.6;font-weight:normal\">reversed</span> <span style=\"opacity:0.6;font-weight:normal\">.</span> <span style=\"opacity:0.6;font-weight:normal\">This</span> <span style=\"opacity:0.6;font-weight:normal\">is</span> <span style=\"opacity:0.6;font-weight:normal\">just</span> <span style=\"opacity:0.6;font-weight:normal\">like</span> <span style=\"opacity:0.6;font-weight:normal\">the</span> <span style=\"opacity:0.6;font-weight:normal\">image</span> <span style=\"opacity:0.6;font-weight:normal\">of</span> <span style=\"opacity:0.6;font-weight:normal\">the</span> <span style=\"opacity:0.6;font-weight:normal\">sign</span> <span style=\"opacity:0.6;font-weight:normal\">above</span> <span style=\"opacity:0.6;font-weight:normal\">.</span> <span style=\"opacity:0.6;font-weight:normal\">Light</span> <span style=\"opacity:0.6;font-weight:normal\">rays</span> <span style=\"opacity:0.6;font-weight:normal\">strike</span> <span style=\"opacity:0.6;font-weight:normal\">flat</span> <span style=\"opacity:0.6;font-weight:normal\">shiny</span> <span style=\"opacity:0.6;font-weight:normal\">surfaces</span> <span style=\"opacity:0.6;font-weight:normal\">and</span> <span style=\"opacity:0.6;font-weight:normal\">are</span> <span style=\"opacity:0.6;font-weight:normal\">reflected</span> <span style=\"opacity:0.6;font-weight:normal\">.</span> <span style=\"opacity:1;font-weight:bold\">The</span> <span style=\"opacity:1;font-weight:bold\">reflections</span> <span style=\"opacity:1;font-weight:bold\">are</span> <span style=\"opacity:1;font-weight:bold\">reversed</span> <span style=\"opacity:1;font-weight:bold\">.</span>"
      ],
      "text/plain": [
       "<IPython.core.display.HTML object>"
      ]
     },
     "metadata": {},
     "output_type": "display_data"
    },
    {
     "data": {
      "text/html": [
       "<hr>"
      ],
      "text/plain": [
       "<IPython.core.display.HTML object>"
      ]
     },
     "metadata": {},
     "output_type": "display_data"
    },
    {
     "data": {
      "text/html": [
       "<span style=\"font-weight:bold\">[Lei et al.] </span><span style=\"opacity:0.6;font-weight:normal\">You</span> <span style=\"opacity:0.6;font-weight:normal\">have</span> <span style=\"opacity:0.6;font-weight:normal\">seen</span> <span style=\"opacity:0.6;font-weight:normal\">your</span> <span style=\"opacity:0.6;font-weight:normal\">own</span> <span style=\"opacity:0.6;font-weight:normal\">reflection</span> <span style=\"opacity:0.6;font-weight:normal\">in</span> <span style=\"opacity:0.6;font-weight:normal\">a</span> <span style=\"opacity:0.6;font-weight:normal\">mirror</span> <span style=\"opacity:0.6;font-weight:normal\">.</span> <span style=\"opacity:0.6;font-weight:normal\">The</span> <span style=\"opacity:0.6;font-weight:normal\">person</span> <span style=\"opacity:0.6;font-weight:normal\">looking</span> <span style=\"opacity:0.6;font-weight:normal\">back</span> <span style=\"opacity:0.6;font-weight:normal\">at</span> <span style=\"opacity:0.6;font-weight:normal\">you</span> <span style=\"opacity:0.6;font-weight:normal\">looks</span> <span style=\"opacity:0.6;font-weight:normal\">just</span> <span style=\"opacity:0.6;font-weight:normal\">like</span> <span style=\"opacity:0.6;font-weight:normal\">you</span> <span style=\"opacity:0.6;font-weight:normal\">.</span> <span style=\"opacity:0.6;font-weight:normal\">Where</span> <span style=\"opacity:0.6;font-weight:normal\">does</span> <span style=\"opacity:0.6;font-weight:normal\">that</span> <span style=\"opacity:0.6;font-weight:normal\">reflected</span> <span style=\"opacity:0.6;font-weight:normal\">person</span> <span style=\"opacity:0.6;font-weight:normal\">appear</span> <span style=\"opacity:0.6;font-weight:normal\">to</span> <span style=\"opacity:0.6;font-weight:normal\">be</span> <span style=\"opacity:0.6;font-weight:normal\">standing</span> <span style=\"opacity:0.6;font-weight:normal\">?</span> <span style=\"opacity:0.6;font-weight:normal\">Yes</span> <span style=\"opacity:0.6;font-weight:normal\">,</span> <span style=\"opacity:0.6;font-weight:normal\">they</span> <span style=\"opacity:0.6;font-weight:normal\">appear</span> <span style=\"opacity:0.6;font-weight:normal\">to</span> <span style=\"opacity:0.6;font-weight:normal\">be</span> <span style=\"opacity:0.6;font-weight:normal\">on</span> <span style=\"opacity:0.6;font-weight:normal\">the</span> <span style=\"opacity:1;font-weight:bold\">other</span> <span style=\"opacity:1;font-weight:bold\">side</span> <span style=\"opacity:1;font-weight:bold\">of</span> <span style=\"opacity:1;font-weight:bold\">the</span> <span style=\"opacity:1;font-weight:bold\">mirror</span> <span style=\"opacity:1;font-weight:bold\">.</span> <span style=\"opacity:1;font-weight:bold\">That</span> <span style=\"opacity:1;font-weight:bold\">is</span> <span style=\"opacity:1;font-weight:bold\">really</span> <span style=\"opacity:1;font-weight:bold\">strange</span> <span style=\"opacity:1;font-weight:bold\">to</span> <span style=\"opacity:1;font-weight:bold\">think</span> <span style=\"opacity:1;font-weight:bold\">about</span> <span style=\"opacity:1;font-weight:bold\">,</span> <span style=\"opacity:1;font-weight:bold\">but</span> <span style=\"opacity:1;font-weight:bold\">very</span> <span style=\"opacity:1;font-weight:bold\">cool</span> <span style=\"opacity:1;font-weight:bold\">.</span> <span style=\"opacity:1;font-weight:bold\">Have</span> <span style=\"opacity:1;font-weight:bold\">you</span> <span style=\"opacity:1;font-weight:bold\">ever</span> <span style=\"opacity:1;font-weight:bold\">waved</span> <span style=\"opacity:1;font-weight:bold\">at</span> <span style=\"opacity:1;font-weight:bold\">your</span> <span style=\"opacity:1;font-weight:bold\">reflection</span> <span style=\"opacity:1;font-weight:bold\">in</span> <span style=\"opacity:1;font-weight:bold\">a</span> <span style=\"opacity:1;font-weight:bold\">mirror</span> <span style=\"opacity:1;font-weight:bold\">?</span> <span style=\"opacity:1;font-weight:bold\">The</span> <span style=\"opacity:1;font-weight:bold\">reflected</span> <span style=\"opacity:1;font-weight:bold\">image</span> <span style=\"opacity:1;font-weight:bold\">will</span> <span style=\"opacity:1;font-weight:bold\">wave</span> <span style=\"opacity:1;font-weight:bold\">back</span> <span style=\"opacity:1;font-weight:bold\">at</span> <span style=\"opacity:1;font-weight:bold\">you</span> <span style=\"opacity:0.6;font-weight:normal\">.</span> <span style=\"opacity:0.6;font-weight:normal\">Here</span> <span style=\"opacity:0.6;font-weight:normal\">is</span> <span style=\"opacity:0.6;font-weight:normal\">something</span> <span style=\"opacity:0.6;font-weight:normal\">to</span> <span style=\"opacity:0.6;font-weight:normal\">try</span> <span style=\"opacity:0.6;font-weight:normal\">next</span> <span style=\"opacity:0.6;font-weight:normal\">time</span> <span style=\"opacity:0.6;font-weight:normal\">you</span> <span style=\"opacity:0.6;font-weight:normal\">stand</span> <span style=\"opacity:0.6;font-weight:normal\">in</span> <span style=\"opacity:0.6;font-weight:normal\">front</span> <span style=\"opacity:0.6;font-weight:normal\">of</span> <span style=\"opacity:0.6;font-weight:normal\">a</span> <span style=\"opacity:0.6;font-weight:normal\">mirror</span> <span style=\"opacity:0.6;font-weight:normal\">.</span> <span style=\"opacity:0.6;font-weight:normal\">Wave</span> <span style=\"opacity:0.6;font-weight:normal\">to</span> <span style=\"opacity:0.6;font-weight:normal\">your</span> <span style=\"opacity:0.6;font-weight:normal\">reflection</span> <span style=\"opacity:0.6;font-weight:normal\">with</span> <span style=\"opacity:0.6;font-weight:normal\">your</span> <span style=\"opacity:0.6;font-weight:normal\">right</span> <span style=\"opacity:0.6;font-weight:normal\">hand</span> <span style=\"opacity:0.6;font-weight:normal\">.</span> <span style=\"opacity:0.6;font-weight:normal\">What</span> <span style=\"opacity:0.6;font-weight:normal\">hand</span> <span style=\"opacity:0.6;font-weight:normal\">do</span> <span style=\"opacity:0.6;font-weight:normal\">you</span> <span style=\"opacity:0.6;font-weight:normal\">think</span> <span style=\"opacity:0.6;font-weight:normal\">the</span> <span style=\"opacity:0.6;font-weight:normal\">reflection</span> <span style=\"opacity:0.6;font-weight:normal\">will</span> <span style=\"opacity:0.6;font-weight:normal\">wave</span> <span style=\"opacity:0.6;font-weight:normal\">back</span> <span style=\"opacity:0.6;font-weight:normal\">with</span> <span style=\"opacity:0.6;font-weight:normal\">?</span> <span style=\"opacity:0.6;font-weight:normal\">The</span> <span style=\"opacity:0.6;font-weight:normal\">same</span> <span style=\"opacity:0.6;font-weight:normal\">hand</span> <span style=\"opacity:0.6;font-weight:normal\">?</span> <span style=\"opacity:0.6;font-weight:normal\">A</span> <span style=\"opacity:0.6;font-weight:normal\">different</span> <span style=\"opacity:0.6;font-weight:normal\">hand</span> <span style=\"opacity:0.6;font-weight:normal\">?</span> <span style=\"opacity:0.6;font-weight:normal\">You</span> <span style=\"opacity:0.6;font-weight:normal\">will</span> <span style=\"opacity:0.6;font-weight:normal\">notice</span> <span style=\"opacity:0.6;font-weight:normal\">something</span> <span style=\"opacity:0.6;font-weight:normal\">interesting</span> <span style=\"opacity:0.6;font-weight:normal\">.</span> <span style=\"opacity:0.6;font-weight:normal\">The</span> <span style=\"opacity:0.6;font-weight:normal\">reflection</span> <span style=\"opacity:0.6;font-weight:normal\">waves</span> <span style=\"opacity:0.6;font-weight:normal\">back</span> <span style=\"opacity:0.6;font-weight:normal\">with</span> <span style=\"opacity:0.6;font-weight:normal\">the</span> <span style=\"opacity:0.6;font-weight:normal\">hand</span> <span style=\"opacity:0.6;font-weight:normal\">on</span> <span style=\"opacity:0.6;font-weight:normal\">the</span> <span style=\"opacity:0.6;font-weight:normal\">same</span> <span style=\"opacity:0.6;font-weight:normal\">side</span> <span style=\"opacity:0.6;font-weight:normal\">as</span> <span style=\"opacity:0.6;font-weight:normal\">you</span> <span style=\"opacity:0.6;font-weight:normal\">,</span> <span style=\"opacity:0.6;font-weight:normal\">but</span> <span style=\"opacity:0.6;font-weight:normal\">it</span> <span style=\"opacity:0.6;font-weight:normal\">is</span> <span style=\"opacity:0.6;font-weight:normal\">their</span> <span style=\"opacity:0.6;font-weight:normal\">left</span> <span style=\"opacity:0.6;font-weight:normal\">hand</span> <span style=\"opacity:0.6;font-weight:normal\">.</span> <span style=\"opacity:0.6;font-weight:normal\">The</span> <span style=\"opacity:0.6;font-weight:normal\">image</span> <span style=\"opacity:0.6;font-weight:normal\">in</span> <span style=\"opacity:0.6;font-weight:normal\">a</span> <span style=\"opacity:0.6;font-weight:normal\">reflection</span> <span style=\"opacity:0.6;font-weight:normal\">is</span> <span style=\"opacity:0.6;font-weight:normal\">reversed</span> <span style=\"opacity:0.6;font-weight:normal\">.</span> <span style=\"opacity:0.6;font-weight:normal\">This</span> <span style=\"opacity:0.6;font-weight:normal\">is</span> <span style=\"opacity:0.6;font-weight:normal\">just</span> <span style=\"opacity:0.6;font-weight:normal\">like</span> <span style=\"opacity:0.6;font-weight:normal\">the</span> <span style=\"opacity:0.6;font-weight:normal\">image</span> <span style=\"opacity:0.6;font-weight:normal\">of</span> <span style=\"opacity:0.6;font-weight:normal\">the</span> <span style=\"opacity:0.6;font-weight:normal\">sign</span> <span style=\"opacity:0.6;font-weight:normal\">above</span> <span style=\"opacity:0.6;font-weight:normal\">.</span> <span style=\"opacity:0.6;font-weight:normal\">Light</span> <span style=\"opacity:0.6;font-weight:normal\">rays</span> <span style=\"opacity:0.6;font-weight:normal\">strike</span> <span style=\"opacity:0.6;font-weight:normal\">flat</span> <span style=\"opacity:0.6;font-weight:normal\">shiny</span> <span style=\"opacity:0.6;font-weight:normal\">surfaces</span> <span style=\"opacity:0.6;font-weight:normal\">and</span> <span style=\"opacity:0.6;font-weight:normal\">are</span> <span style=\"opacity:0.6;font-weight:normal\">reflected</span> <span style=\"opacity:0.6;font-weight:normal\">.</span> <span style=\"opacity:0.6;font-weight:normal\">The</span> <span style=\"opacity:0.6;font-weight:normal\">reflections</span> <span style=\"opacity:0.6;font-weight:normal\">are</span> <span style=\"opacity:0.6;font-weight:normal\">reversed</span> <span style=\"opacity:0.6;font-weight:normal\">.</span>"
      ],
      "text/plain": [
       "<IPython.core.display.HTML object>"
      ]
     },
     "metadata": {},
     "output_type": "display_data"
    },
    {
     "data": {
      "text/html": [
       "<hr>"
      ],
      "text/plain": [
       "<IPython.core.display.HTML object>"
      ]
     },
     "metadata": {},
     "output_type": "display_data"
    },
    {
     "data": {
      "text/html": [
       "<span style=\"font-weight:bold\">[FRESH] </span><span style=\"opacity:0.6;font-weight:normal\">You</span> <span style=\"opacity:0.6;font-weight:normal\">have</span> <span style=\"opacity:0.6;font-weight:normal\">seen</span> <span style=\"opacity:0.6;font-weight:normal\">your</span> <span style=\"opacity:0.6;font-weight:normal\">own</span> <span style=\"opacity:0.6;font-weight:normal\">reflection</span> <span style=\"opacity:0.6;font-weight:normal\">in</span> <span style=\"opacity:0.6;font-weight:normal\">a</span> <span style=\"opacity:0.6;font-weight:normal\">mirror</span> <span style=\"opacity:0.6;font-weight:normal\">.</span> <span style=\"opacity:0.6;font-weight:normal\">The</span> <span style=\"opacity:0.6;font-weight:normal\">person</span> <span style=\"opacity:0.6;font-weight:normal\">looking</span> <span style=\"opacity:0.6;font-weight:normal\">back</span> <span style=\"opacity:0.6;font-weight:normal\">at</span> <span style=\"opacity:0.6;font-weight:normal\">you</span> <span style=\"opacity:0.6;font-weight:normal\">looks</span> <span style=\"opacity:0.6;font-weight:normal\">just</span> <span style=\"opacity:0.6;font-weight:normal\">like</span> <span style=\"opacity:0.6;font-weight:normal\">you</span> <span style=\"opacity:0.6;font-weight:normal\">.</span> <span style=\"opacity:0.6;font-weight:normal\">Where</span> <span style=\"opacity:0.6;font-weight:normal\">does</span> <span style=\"opacity:0.6;font-weight:normal\">that</span> <span style=\"opacity:0.6;font-weight:normal\">reflected</span> <span style=\"opacity:0.6;font-weight:normal\">person</span> <span style=\"opacity:0.6;font-weight:normal\">appear</span> <span style=\"opacity:0.6;font-weight:normal\">to</span> <span style=\"opacity:0.6;font-weight:normal\">be</span> <span style=\"opacity:0.6;font-weight:normal\">standing</span> <span style=\"opacity:0.6;font-weight:normal\">?</span> <span style=\"opacity:0.6;font-weight:normal\">Yes</span> <span style=\"opacity:0.6;font-weight:normal\">,</span> <span style=\"opacity:0.6;font-weight:normal\">they</span> <span style=\"opacity:0.6;font-weight:normal\">appear</span> <span style=\"opacity:0.6;font-weight:normal\">to</span> <span style=\"opacity:0.6;font-weight:normal\">be</span> <span style=\"opacity:0.6;font-weight:normal\">on</span> <span style=\"opacity:0.6;font-weight:normal\">the</span> <span style=\"opacity:0.6;font-weight:normal\">other</span> <span style=\"opacity:0.6;font-weight:normal\">side</span> <span style=\"opacity:0.6;font-weight:normal\">of</span> <span style=\"opacity:0.6;font-weight:normal\">the</span> <span style=\"opacity:0.6;font-weight:normal\">mirror</span> <span style=\"opacity:0.6;font-weight:normal\">.</span> <span style=\"opacity:0.6;font-weight:normal\">That</span> <span style=\"opacity:0.6;font-weight:normal\">is</span> <span style=\"opacity:0.6;font-weight:normal\">really</span> <span style=\"opacity:0.6;font-weight:normal\">strange</span> <span style=\"opacity:0.6;font-weight:normal\">to</span> <span style=\"opacity:0.6;font-weight:normal\">think</span> <span style=\"opacity:0.6;font-weight:normal\">about</span> <span style=\"opacity:0.6;font-weight:normal\">,</span> <span style=\"opacity:0.6;font-weight:normal\">but</span> <span style=\"opacity:0.6;font-weight:normal\">very</span> <span style=\"opacity:0.6;font-weight:normal\">cool</span> <span style=\"opacity:0.6;font-weight:normal\">.</span> <span style=\"opacity:0.6;font-weight:normal\">Have</span> <span style=\"opacity:0.6;font-weight:normal\">you</span> <span style=\"opacity:0.6;font-weight:normal\">ever</span> <span style=\"opacity:0.6;font-weight:normal\">waved</span> <span style=\"opacity:0.6;font-weight:normal\">at</span> <span style=\"opacity:0.6;font-weight:normal\">your</span> <span style=\"opacity:0.6;font-weight:normal\">reflection</span> <span style=\"opacity:0.6;font-weight:normal\">in</span> <span style=\"opacity:0.6;font-weight:normal\">a</span> <span style=\"opacity:0.6;font-weight:normal\">mirror</span> <span style=\"opacity:0.6;font-weight:normal\">?</span> <span style=\"opacity:0.6;font-weight:normal\">The</span> <span style=\"opacity:0.6;font-weight:normal\">reflected</span> <span style=\"opacity:0.6;font-weight:normal\">image</span> <span style=\"opacity:0.6;font-weight:normal\">will</span> <span style=\"opacity:0.6;font-weight:normal\">wave</span> <span style=\"opacity:0.6;font-weight:normal\">back</span> <span style=\"opacity:0.6;font-weight:normal\">at</span> <span style=\"opacity:0.6;font-weight:normal\">you</span> <span style=\"opacity:0.6;font-weight:normal\">.</span> <span style=\"opacity:0.6;font-weight:normal\">Here</span> <span style=\"opacity:0.6;font-weight:normal\">is</span> <span style=\"opacity:0.6;font-weight:normal\">something</span> <span style=\"opacity:0.6;font-weight:normal\">to</span> <span style=\"opacity:0.6;font-weight:normal\">try</span> <span style=\"opacity:0.6;font-weight:normal\">next</span> <span style=\"opacity:0.6;font-weight:normal\">time</span> <span style=\"opacity:0.6;font-weight:normal\">you</span> <span style=\"opacity:0.6;font-weight:normal\">stand</span> <span style=\"opacity:0.6;font-weight:normal\">in</span> <span style=\"opacity:0.6;font-weight:normal\">front</span> <span style=\"opacity:0.6;font-weight:normal\">of</span> <span style=\"opacity:0.6;font-weight:normal\">a</span> <span style=\"opacity:0.6;font-weight:normal\">mirror</span> <span style=\"opacity:0.6;font-weight:normal\">.</span> <span style=\"opacity:0.6;font-weight:normal\">Wave</span> <span style=\"opacity:0.6;font-weight:normal\">to</span> <span style=\"opacity:0.6;font-weight:normal\">your</span> <span style=\"opacity:0.6;font-weight:normal\">reflection</span> <span style=\"opacity:0.6;font-weight:normal\">with</span> <span style=\"opacity:0.6;font-weight:normal\">your</span> <span style=\"opacity:0.6;font-weight:normal\">right</span> <span style=\"opacity:0.6;font-weight:normal\">hand</span> <span style=\"opacity:0.6;font-weight:normal\">.</span> <span style=\"opacity:0.6;font-weight:normal\">What</span> <span style=\"opacity:0.6;font-weight:normal\">hand</span> <span style=\"opacity:0.6;font-weight:normal\">do</span> <span style=\"opacity:0.6;font-weight:normal\">you</span> <span style=\"opacity:0.6;font-weight:normal\">think</span> <span style=\"opacity:0.6;font-weight:normal\">the</span> <span style=\"opacity:0.6;font-weight:normal\">reflection</span> <span style=\"opacity:0.6;font-weight:normal\">will</span> <span style=\"opacity:0.6;font-weight:normal\">wave</span> <span style=\"opacity:0.6;font-weight:normal\">back</span> <span style=\"opacity:0.6;font-weight:normal\">with</span> <span style=\"opacity:0.6;font-weight:normal\">?</span> <span style=\"opacity:0.6;font-weight:normal\">The</span> <span style=\"opacity:0.6;font-weight:normal\">same</span> <span style=\"opacity:0.6;font-weight:normal\">hand</span> <span style=\"opacity:0.6;font-weight:normal\">?</span> <span style=\"opacity:0.6;font-weight:normal\">A</span> <span style=\"opacity:0.6;font-weight:normal\">different</span> <span style=\"opacity:0.6;font-weight:normal\">hand</span> <span style=\"opacity:0.6;font-weight:normal\">?</span> <span style=\"opacity:0.6;font-weight:normal\">You</span> <span style=\"opacity:0.6;font-weight:normal\">will</span> <span style=\"opacity:0.6;font-weight:normal\">notice</span> <span style=\"opacity:0.6;font-weight:normal\">something</span> <span style=\"opacity:0.6;font-weight:normal\">interesting</span> <span style=\"opacity:0.6;font-weight:normal\">.</span> <span style=\"opacity:0.6;font-weight:normal\">The</span> <span style=\"opacity:0.6;font-weight:normal\">reflection</span> <span style=\"opacity:0.6;font-weight:normal\">waves</span> <span style=\"opacity:0.6;font-weight:normal\">back</span> <span style=\"opacity:0.6;font-weight:normal\">with</span> <span style=\"opacity:0.6;font-weight:normal\">the</span> <span style=\"opacity:0.6;font-weight:normal\">hand</span> <span style=\"opacity:0.6;font-weight:normal\">on</span> <span style=\"opacity:0.6;font-weight:normal\">the</span> <span style=\"opacity:0.6;font-weight:normal\">same</span> <span style=\"opacity:0.6;font-weight:normal\">side</span> <span style=\"opacity:0.6;font-weight:normal\">as</span> <span style=\"opacity:0.6;font-weight:normal\">you</span> <span style=\"opacity:0.6;font-weight:normal\">,</span> <span style=\"opacity:0.6;font-weight:normal\">but</span> <span style=\"opacity:0.6;font-weight:normal\">it</span> <span style=\"opacity:0.6;font-weight:normal\">is</span> <span style=\"opacity:0.6;font-weight:normal\">their</span> <span style=\"opacity:1;font-weight:bold\">left</span> <span style=\"opacity:1;font-weight:bold\">hand</span> <span style=\"opacity:1;font-weight:bold\">.</span> <span style=\"opacity:1;font-weight:bold\">The</span> <span style=\"opacity:1;font-weight:bold\">image</span> <span style=\"opacity:1;font-weight:bold\">in</span> <span style=\"opacity:1;font-weight:bold\">a</span> <span style=\"opacity:1;font-weight:bold\">reflection</span> <span style=\"opacity:1;font-weight:bold\">is</span> <span style=\"opacity:1;font-weight:bold\">reversed</span> <span style=\"opacity:1;font-weight:bold\">.</span> <span style=\"opacity:1;font-weight:bold\">This</span> <span style=\"opacity:1;font-weight:bold\">is</span> <span style=\"opacity:1;font-weight:bold\">just</span> <span style=\"opacity:1;font-weight:bold\">like</span> <span style=\"opacity:1;font-weight:bold\">the</span> <span style=\"opacity:1;font-weight:bold\">image</span> <span style=\"opacity:1;font-weight:bold\">of</span> <span style=\"opacity:1;font-weight:bold\">the</span> <span style=\"opacity:1;font-weight:bold\">sign</span> <span style=\"opacity:1;font-weight:bold\">above</span> <span style=\"opacity:1;font-weight:bold\">.</span> <span style=\"opacity:1;font-weight:bold\">Light</span> <span style=\"opacity:1;font-weight:bold\">rays</span> <span style=\"opacity:1;font-weight:bold\">strike</span> <span style=\"opacity:1;font-weight:bold\">flat</span> <span style=\"opacity:1;font-weight:bold\">shiny</span> <span style=\"opacity:1;font-weight:bold\">surfaces</span> <span style=\"opacity:1;font-weight:bold\">and</span> <span style=\"opacity:1;font-weight:bold\">are</span> <span style=\"opacity:1;font-weight:bold\">reflected</span> <span style=\"opacity:1;font-weight:bold\">.</span> <span style=\"opacity:1;font-weight:bold\">The</span> <span style=\"opacity:1;font-weight:bold\">reflections</span> <span style=\"opacity:1;font-weight:bold\">are</span> <span style=\"opacity:1;font-weight:bold\">reversed</span> <span style=\"opacity:1;font-weight:bold\">.</span>"
      ],
      "text/plain": [
       "<IPython.core.display.HTML object>"
      ]
     },
     "metadata": {},
     "output_type": "display_data"
    },
    {
     "data": {
      "text/html": [
       "<hr>"
      ],
      "text/plain": [
       "<IPython.core.display.HTML object>"
      ]
     },
     "metadata": {},
     "output_type": "display_data"
    }
   ],
   "source": [
    "n = 2500\n",
    "display(HTML('<div style=\"border:1px solid black;padding:5px;font-weight:bold\">' + \"Query : \" + original[n]['query'].replace('||', 'Answer : ') + '</div>'))\n",
    "map_n = {'lei' : 'Lei et al.', 'fresh' : 'FRESH' }\n",
    "\n",
    "print_words(original[n], original[n]['rationale'], 'Human')\n",
    "display(HTML('<hr>'))\n",
    "for model in spans :\n",
    "    for t in spans[model] :\n",
    "        d = spans[model][t][n]\n",
    "        if 'predicted_rationale' in d :\n",
    "            rationale = d['predicted_rationale']\n",
    "        else :\n",
    "            rationale = d['rationale']\n",
    "        print_words(original[n], [x['span'] for x in rationale['spans']], map_n[model])\n",
    "        display(HTML('<hr>'))"
   ]
  },
  {
   "cell_type": "code",
   "execution_count": 20,
   "metadata": {},
   "outputs": [
    {
     "data": {
      "text/plain": [
       "[[204, 278]]"
      ]
     },
     "execution_count": 20,
     "metadata": {},
     "output_type": "execute_result"
    }
   ],
   "source": []
  },
  {
   "cell_type": "code",
   "execution_count": null,
   "metadata": {},
   "outputs": [],
   "source": []
  }
 ],
 "metadata": {
  "kernelspec": {
   "display_name": "Python 3",
   "language": "python",
   "name": "python3"
  },
  "language_info": {
   "codemirror_mode": {
    "name": "ipython",
    "version": 3
   },
   "file_extension": ".py",
   "mimetype": "text/x-python",
   "name": "python",
   "nbconvert_exporter": "python",
   "pygments_lexer": "ipython3",
   "version": "3.8.1"
  }
 },
 "nbformat": 4,
 "nbformat_minor": 4
}
