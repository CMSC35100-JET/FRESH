{
 "cells": [
  {
   "cell_type": "code",
   "execution_count": null,
   "metadata": {},
   "outputs": [],
   "source": [
    "!git clone https://github.com/jayded/evidence-inference.git"
   ]
  },
  {
   "cell_type": "code",
   "execution_count": null,
   "metadata": {},
   "outputs": [],
   "source": [
    "from process_evidence_inference import read_docs"
   ]
  },
  {
   "cell_type": "code",
   "execution_count": null,
   "metadata": {},
   "outputs": [],
   "source": [
    "docs = read_docs(abst_only=True)"
   ]
  },
  {
   "cell_type": "code",
   "execution_count": null,
   "metadata": {},
   "outputs": [],
   "source": [
    "from bisect import *\n",
    "def find_ge(a, x):\n",
    "    'Find leftmost item greater than or equal to x'\n",
    "    i = bisect_left(a, x)\n",
    "    return i\n",
    "    \n",
    "def find_le(a, x):\n",
    "    'Find rightmost value less than or equal to x'\n",
    "    i = bisect_right(a, x)\n",
    "    if i:\n",
    "        return i-1\n",
    "    raise ValueError"
   ]
  },
  {
   "cell_type": "code",
   "execution_count": null,
   "metadata": {},
   "outputs": [],
   "source": [
    "import spacy\n",
    "nlp = spacy.load(\"en_core_web_sm\")"
   ]
  },
  {
   "cell_type": "code",
   "execution_count": null,
   "metadata": {},
   "outputs": [],
   "source": [
    "from tqdm import tqdm\n",
    "annotations = []\n",
    "for d in tqdm(docs) :\n",
    "    dn = nlp(d.text)\n",
    "    text = \" \".join([t.text for t in dn if t.text.strip() != ''])\n",
    "    tidx = [t.idx for t in dn if t.text.strip() != '']\n",
    "    for i, f in enumerate(d.frames) :\n",
    "        annotation_id = str(d.id) + '_' + str(i)\n",
    "        annotations.append({\n",
    "            'annotation_id' : annotation_id,\n",
    "            'document' : text,\n",
    "            'rationale' : [(find_le(tidx, f.ev.i), find_ge(tidx, f.ev.f))],\n",
    "            'label' : f.encoder_label[f.label],\n",
    "            'query' : ' || '.join([f.i, f.c, f.o])\n",
    "        })"
   ]
  },
  {
   "cell_type": "code",
   "execution_count": null,
   "metadata": {},
   "outputs": [],
   "source": [
    "train_ids = [int(x) for x in open('evidence-inference/annotations/splits/train_article_ids.txt').read().strip().split()]\n",
    "dev_ids = [int(x) for x in open('evidence-inference/annotations/splits/validation_article_ids.txt').read().strip().split()]\n",
    "test_ids = [int(x) for x in open('evidence-inference/annotations/splits/test_article_ids.txt').read().strip().split()]"
   ]
  },
  {
   "cell_type": "code",
   "execution_count": null,
   "metadata": {},
   "outputs": [],
   "source": [
    "import json\n",
    "import os\n",
    "os.makedirs('data', exist_ok=True)\n",
    "with open('data/train.jsonl', 'w') as g :\n",
    "    g.write('\\n'.join([json.dumps(ann) for ann in annotations if int(ann['annotation_id'].split('_')[0]) in train_ids]))"
   ]
  },
  {
   "cell_type": "code",
   "execution_count": null,
   "metadata": {},
   "outputs": [],
   "source": [
    "with open('data/dev.jsonl', 'w') as g :\n",
    "    g.write('\\n'.join([json.dumps(ann) for ann in annotations if int(ann['annotation_id'].split('_')[0]) in dev_ids]))"
   ]
  },
  {
   "cell_type": "code",
   "execution_count": null,
   "metadata": {},
   "outputs": [],
   "source": [
    "with open('data/test.jsonl', 'w') as g :\n",
    "    g.write('\\n'.join([json.dumps(ann) for ann in annotations if int(ann['annotation_id'].split('_')[0]) in test_ids]))"
   ]
  },
  {
   "cell_type": "code",
   "execution_count": null,
   "metadata": {},
   "outputs": [],
   "source": []
  }
 ],
 "metadata": {
  "kernelspec": {
   "display_name": "Python 3",
   "language": "python",
   "name": "python3"
  },
  "language_info": {
   "codemirror_mode": {
    "name": "ipython",
    "version": 3
   },
   "file_extension": ".py",
   "mimetype": "text/x-python",
   "name": "python",
   "nbconvert_exporter": "python",
   "pygments_lexer": "ipython3",
   "version": "3.8.2"
  }
 },
 "nbformat": 4,
 "nbformat_minor": 4
}
